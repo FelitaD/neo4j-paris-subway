{
 "cells": [
  {
   "cell_type": "markdown",
   "metadata": {
    "pycharm": {
     "name": "#%% md\n"
    }
   },
   "source": [
    "# Exploration"
   ]
  },
  {
   "cell_type": "code",
   "execution_count": null,
   "metadata": {
    "collapsed": false,
    "jupyter": {
     "outputs_hidden": false
    },
    "pycharm": {
     "name": "#%%\n"
    }
   },
   "outputs": [],
   "source": [
    "from neo4j import GraphDatabase\n",
    "\n",
    "driver = GraphDatabase.driver('bolt://0.0.0.0:7687',\n",
    "                              auth=('neo4j', 'neo4j'))"
   ]
  },
  {
   "cell_type": "markdown",
   "metadata": {},
   "source": [
    "- **Quel est le nombre de correspondances par station ?**"
   ]
  },
  {
   "cell_type": "code",
   "execution_count": null,
   "metadata": {
    "collapsed": false,
    "jupyter": {
     "outputs_hidden": false
    },
    "pycharm": {
     "name": "#%%\n"
    }
   },
   "outputs": [],
   "source": [
    "query = '''\n",
    "MATCH (s:Station)-[c:CORRESPONDANCE]->(s2:Station)\n",
    "RETURN s.name AS Stations, collect(distinct(s2.ligne)) AS Correspondances, count(distinct(s2)) AS `Nombre de correspondances` ORDER BY Stations\n",
    "'''\n",
    "\n",
    "with driver.session() as session:\n",
    "    print(query)\n",
    "    session.run(query)"
   ]
  },
  {
   "cell_type": "markdown",
   "metadata": {},
   "source": [
    "- **Quel est le nombre de stations à moins de deux kilomètres de la station LADEFENSE (on pourra prendre la distance brute sans considération de relation) ?**"
   ]
  },
  {
   "cell_type": "code",
   "execution_count": null,
   "metadata": {
    "collapsed": false,
    "jupyter": {
     "outputs_hidden": false
    },
    "pycharm": {
     "name": "#%%\n"
    }
   },
   "outputs": [],
   "source": [
    "query = '''\n",
    "MATCH (s1:Station {name_clean: 'LADEFENSE'})-[d:DISTANCE]->(s2:Station)\n",
    "WHERE d.distance_km < 2 AND d.distance_km > 0\n",
    "RETURN collect(s2.name) AS Station, count(s2)\n",
    "'''\n",
    "\n",
    "with driver.session() as session:\n",
    "    print(query)\n",
    "    session.run(query)"
   ]
  },
  {
   "cell_type": "markdown",
   "metadata": {},
   "source": [
    "- **Combien de temps faut-il pour aller en metro de LADEFENSE à CHATEAUDEVINCENNES ?**\n",
    "\n",
    "Note : On compte environ 30 secondes d'arrêt par station (moins celle de départ et d'arrivée)"
   ]
  },
  {
   "cell_type": "code",
   "execution_count": null,
   "metadata": {
    "collapsed": false,
    "jupyter": {
     "outputs_hidden": false
    },
    "pycharm": {
     "name": "#%%\n"
    }
   },
   "outputs": [],
   "source": [
    "query = '''\n",
    "MATCH (s1:Station {ligne: '1'})-[l:LIAISON_METRO {ligne: '1'}]-(s2:Station {ligne: '1'})\n",
    "RETURN sum(distinct(l.time_minutes)) + 0.5 * (count(distinct(s1)) - 2)\n",
    "'''\n",
    "\n",
    "with driver.session() as session:\n",
    "    print(query)\n",
    "    session.run(query)"
   ]
  },
  {
   "cell_type": "markdown",
   "metadata": {},
   "source": [
    "- **Combien de temps faut-il pour aller à pied de LADEFENSE à CHATEAUDEVINCENNES (on pourra considérer que tout le chemin se fait à pied, sans considération de relation) ?**"
   ]
  },
  {
   "cell_type": "code",
   "execution_count": null,
   "metadata": {
    "collapsed": false,
    "jupyter": {
     "outputs_hidden": false
    },
    "pycharm": {
     "name": "#%%\n"
    }
   },
   "outputs": [],
   "source": [
    "query = '''\n",
    "MATCH (s1:Station {name_clean: 'LADEFENSE'})-[d:DISTANCE]->(s2:Station {name_clean: 'CHATEAUDEVINCENNES'})\n",
    "RETURN d.distance_km / 4\n",
    "'''\n",
    "\n",
    "with driver.session() as session:\n",
    "    print(query)\n",
    "    session.run(query)"
   ]
  },
  {
   "cell_type": "markdown",
   "metadata": {},
   "source": [
    "- **Est-il plus rapide de faire un changement à SAINTLAZARE pour aller de MONTPARNASSEBIENVENUE à GABRIELPERI ?**\n",
    "\n",
    "Il faut prendre en compte s1.ligne = s2.ligne car sinon l'algorithme ne prend pas en compte les correspondances. Il n'est pas plus rapide de faire un changement à Saint Lazare."
   ]
  },
  {
   "cell_type": "code",
   "execution_count": null,
   "metadata": {
    "collapsed": false,
    "jupyter": {
     "outputs_hidden": false
    },
    "pycharm": {
     "name": "#%%\n"
    }
   },
   "outputs": [],
   "source": [
    "query = '''\n",
    "MATCH (start:Station {name_clean: 'MONTPARNASSEBIENVENUE'})\n",
    "MATCH (end:Station {name_clean: 'GABRIELPERI'})\n",
    "CALL gds.alpha.shortestPath.stream({\n",
    "  nodeQuery: 'MATCH (n) RETURN id(n) as id',\n",
    "  relationshipQuery: 'MATCH (n1)-[r]-(n2) WHERE n1.ligne = n2.ligne RETURN id(r) as id, id(n1) as source, id(n2) as target, r.time_minutes as weight',\n",
    "  startNode: start,\n",
    "  endNode: end,\n",
    "  relationshipWeightProperty: 'weight'\n",
    "})\n",
    "YIELD nodeId, cost\n",
    "RETURN gds.util.asNode(nodeId).name AS Station, gds.util.asNode(nodeId).ligne AS Ligne, cost\n",
    "'''\n",
    "\n",
    "with driver.session() as session:\n",
    "    print(query)\n",
    "    session.run(query)"
   ]
  },
  {
   "cell_type": "markdown",
   "metadata": {},
   "source": [
    "- **Combien de stations se trouvent dans un rayon de 10 stations par train autour de STLAZARE ?**"
   ]
  },
  {
   "cell_type": "code",
   "execution_count": null,
   "metadata": {
    "collapsed": false,
    "jupyter": {
     "outputs_hidden": false
    },
    "pycharm": {
     "name": "#%%\n"
    }
   },
   "outputs": [],
   "source": [
    "query = '''\n",
    "MATCH (n1 {name_clean: \"STLAZARE\"})\n",
    "MATCH (n1)-[:LIAISON_METRO*..10]-(n2)\n",
    "RETURN collect(distinct(n2.name)), count(distinct(n2.name))\n",
    "'''\n",
    "\n",
    "with driver.session() as session:\n",
    "    print(query)\n",
    "    session.run(query)"
   ]
  },
  {
   "cell_type": "markdown",
   "metadata": {},
   "source": [
    "- **Combien de stations se trouvent dans un rayon de 20 minutes par train autour de STLAZARE ?**"
   ]
  },
  {
   "cell_type": "markdown",
   "metadata": {
    "pycharm": {
     "name": "#%% md\n"
    }
   },
   "source": [
    "Normalement la requête est la suivante, mais elle est trop longue pour que je voie les résultats.\n",
    "- On matche les chemins de type LIAISON_METRO de n'importe quelle longueur et allant de Saint-Lazare à une autre station.\n",
    "- On défait la liste de relations avec UNWIND.\n",
    "- On calcule la somme des time_minutes dans chaque chemin.\n",
    "- On filtre le chemins dont la somme est inférieure à 20 minutes\n"
   ]
  },
  {
   "cell_type": "code",
   "execution_count": null,
   "metadata": {
    "collapsed": false,
    "jupyter": {
     "outputs_hidden": false
    },
    "pycharm": {
     "name": "#%%\n"
    }
   },
   "outputs": [],
   "source": [
    "query = '''\n",
    "MATCH path = (s1 {name_clean: \"STLAZARE\"})-[:LIAISON_METRO*]-(s2:Station)\n",
    "WHERE s1.name <> s2.name\n",
    "UNWIND relationships(path) AS rel\n",
    "WITH *, path, SUM(rel.time_minutes) AS sum\n",
    "WHERE sum > 1\n",
    "RETURN count(distinct(s2.name)), collect(distinct(s2.name))\n",
    "'''\n",
    "\n",
    "with driver.session() as session:\n",
    "    print(query)\n",
    "    session.run(query)"
   ]
  },
  {
   "cell_type": "markdown",
   "metadata": {
    "pycharm": {
     "name": "#%% md\n"
    }
   },
   "source": [
    "Avec une requête moins couteuse: on prend uniquement les gares situées à moins 4 stations et plus de 2 minutes de Saint-Lazare"
   ]
  },
  {
   "cell_type": "code",
   "execution_count": null,
   "metadata": {
    "collapsed": false,
    "jupyter": {
     "outputs_hidden": false
    },
    "pycharm": {
     "name": "#%%\n"
    }
   },
   "outputs": [],
   "source": [
    "'''\n",
    "MATCH path = (s1 {name_clean: \"STLAZARE\"})-[:LIAISON_METRO*..4]-(s2:Station)\n",
    "WHERE s1.name <> s2.name\n",
    "UNWIND relationships(path) AS rel\n",
    "WITH *, path, SUM(rel.time_minutes) AS sum\n",
    "WHERE sum < 2\n",
    "RETURN count(distinct(s2.name)), collect(distinct(s2.name))\n",
    "'''"
   ]
  }
 ],
 "metadata": {
  "kernelspec": {
   "display_name": "Python 3 (ipykernel)",
   "language": "python",
   "name": "python3"
  },
  "language_info": {
   "codemirror_mode": {
    "name": "ipython",
    "version": 3
   },
   "file_extension": ".py",
   "mimetype": "text/x-python",
   "name": "python",
   "nbconvert_exporter": "python",
   "pygments_lexer": "ipython3",
   "version": "3.9.16"
  }
 },
 "nbformat": 4,
 "nbformat_minor": 4
}
